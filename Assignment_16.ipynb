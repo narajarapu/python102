{
  "nbformat": 4,
  "nbformat_minor": 0,
  "metadata": {
    "colab": {
      "provenance": [],
      "authorship_tag": "ABX9TyOKWvKf4TF/pnupun/lsDZ4",
      "include_colab_link": true
    },
    "kernelspec": {
      "name": "python3",
      "display_name": "Python 3"
    },
    "language_info": {
      "name": "python"
    }
  },
  "cells": [
    {
      "cell_type": "markdown",
      "metadata": {
        "id": "view-in-github",
        "colab_type": "text"
      },
      "source": [
        "<a href=\"https://colab.research.google.com/github/narajarapu/python102/blob/main/Assignment_16.ipynb\" target=\"_parent\"><img src=\"https://colab.research.google.com/assets/colab-badge.svg\" alt=\"Open In Colab\"/></a>"
      ]
    },
    {
      "cell_type": "code",
      "execution_count": null,
      "metadata": {
        "id": "7eTfSF6rTx8n"
      },
      "outputs": [],
      "source": [
        "class Book:\n",
        "    def __init__(self, title, author):\n",
        "        self.title = title\n",
        "        self.author = author\n",
        "\n",
        "class Book_Collection:\n",
        "    def __init__(self):\n",
        "        self.books_list = []\n",
        "\n",
        "    def add_book(self, book):\n",
        "        self.books_list.append(book)\n",
        "\n",
        "    def remove_book(self, book):\n",
        "        self.books_list.remove(book)\n",
        "\n",
        "    def __iter__(self):\n",
        "        self.index = 0\n",
        "        return self\n",
        "\n",
        "    def __next__(self):\n",
        "        if self.index < len(self.books_list):\n",
        "            book = self.books_list[self.index]\n",
        "            self.index += 1\n",
        "            return book\n",
        "        else:\n",
        "            raise StopIteration\n",
        "\n",
        "# Creating 5 books\n",
        "books = [\n",
        "    Book(\"Title 1\", \"Author 1\"),\n",
        "    Book(\"Title 2\", \"Author 2\"),\n",
        "    Book(\"Title 3\", \"Author 3\"),\n",
        "    Book(\"Title 4\", \"Author 4\"),\n",
        "    Book(\"Title 5\", \"Author 5\")\n",
        "]\n",
        "\n",
        "# Adding books to the collection\n",
        "book_collection = Book_Collection()\n",
        "for book in books:\n",
        "    book_collection.add_book(book)\n",
        "\n",
        "# Iterating over the books in the collection\n",
        "for book in book_collection:\n",
        "    print(f\"Title: {book.title}, Author: {book.author}\")\n"
      ]
    }
  ]
}