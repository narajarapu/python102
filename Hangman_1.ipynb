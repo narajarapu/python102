{
  "nbformat": 4,
  "nbformat_minor": 0,
  "metadata": {
    "colab": {
      "provenance": [],
      "authorship_tag": "ABX9TyMuCrjxEpPDntEm23UIa0BQ",
      "include_colab_link": true
    },
    "kernelspec": {
      "name": "python3",
      "display_name": "Python 3"
    },
    "language_info": {
      "name": "python"
    }
  },
  "cells": [
    {
      "cell_type": "markdown",
      "metadata": {
        "id": "view-in-github",
        "colab_type": "text"
      },
      "source": [
        "<a href=\"https://colab.research.google.com/github/narajarapu/python102/blob/main/Hangman_1.ipynb\" target=\"_parent\"><img src=\"https://colab.research.google.com/assets/colab-badge.svg\" alt=\"Open In Colab\"/></a>"
      ]
    },
    {
      "cell_type": "code",
      "execution_count": null,
      "metadata": {
        "colab": {
          "base_uri": "https://localhost:8080/"
        },
        "id": "OzDPOrMQXSJg",
        "outputId": "4ab33ddc-0e61-4f7e-ddb4-57ea26d32f32"
      },
      "outputs": [
        {
          "output_type": "stream",
          "name": "stdout",
          "text": [
            "python ['y', 't', 'n', 'o', 'p', 'h'] True\n",
            "python ['y', 'q', 'n', 'o', 'p', 'h'] False\n",
            "program ['y', 'q', 'n', 'o', 'p', 'h'] False\n",
            "program ['p', 'm', 'r', 'o', 'g', 'a'] True\n"
          ]
        }
      ],
      "source": [
        "# Finish the implementation of is_word_guessed method in MIT project.\n",
        "def is_word_guessed(secret_word, letters_guessed):\n",
        "\n",
        "    secret_list = list(secret_word)\n",
        "\n",
        "    for elem in secret_list:\n",
        "        if elem not in letters_guessed:\n",
        "            return False\n",
        "    return True\n",
        "\n",
        "\n",
        "# Test the method - True\n",
        "secret_word = 'python'\n",
        "letters_guessed = ['y', 't', 'n', 'o', 'p', 'h']\n",
        "x = is_word_guessed(secret_word, letters_guessed)\n",
        "print(secret_word, letters_guessed, x)\n",
        "\n",
        "# Test the method - False\n",
        "secret_word = 'python'\n",
        "letters_guessed = ['y', 'q', 'n', 'o', 'p', 'h']\n",
        "x = is_word_guessed(secret_word, letters_guessed)\n",
        "print(secret_word, letters_guessed, x)\n",
        "\n",
        "\n",
        "# Test the method - False\n",
        "secret_word = 'program'\n",
        "letters_guessed = ['y', 'q', 'n', 'o', 'p', 'h']\n",
        "x = is_word_guessed(secret_word, letters_guessed)\n",
        "print(secret_word, letters_guessed, x)\n",
        "\n",
        "\n",
        "# Test the method - True\n",
        "secret_word = 'program'\n",
        "letters_guessed = ['p', 'm', 'r', 'o', 'g', 'a']\n",
        "x = is_word_guessed(secret_word, letters_guessed)\n",
        "print(secret_word, letters_guessed, x)\n",
        "\n",
        "\n",
        "\n",
        "\n",
        "\n",
        "\n",
        "\n",
        "\n",
        "\n",
        "\n",
        "\n"
      ]
    }
  ]
}