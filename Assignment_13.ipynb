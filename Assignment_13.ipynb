{
  "nbformat": 4,
  "nbformat_minor": 0,
  "metadata": {
    "colab": {
      "provenance": [],
      "authorship_tag": "ABX9TyOq3e9TeX4KT4TW1i0j7gSy",
      "include_colab_link": true
    },
    "kernelspec": {
      "name": "python3",
      "display_name": "Python 3"
    },
    "language_info": {
      "name": "python"
    }
  },
  "cells": [
    {
      "cell_type": "markdown",
      "metadata": {
        "id": "view-in-github",
        "colab_type": "text"
      },
      "source": [
        "<a href=\"https://colab.research.google.com/github/narajarapu/python102/blob/main/Assignment_13.ipynb\" target=\"_parent\"><img src=\"https://colab.research.google.com/assets/colab-badge.svg\" alt=\"Open In Colab\"/></a>"
      ]
    },
    {
      "cell_type": "code",
      "execution_count": null,
      "metadata": {
        "id": "bcbrE0Qo-5tm"
      },
      "outputs": [],
      "source": [
        "import os\n",
        "\n",
        "def get_directory_info(directory_path):\n",
        "    # Initialize counters\n",
        "    file_count = 0\n",
        "    folder_count = 0\n",
        "    total_size = 0\n",
        "\n",
        "    # Walk through the directory and calculate counts and size\n",
        "    for root, dirs, files in os.walk(directory_path):\n",
        "        folder_count += len(dirs)\n",
        "        file_count += len(files)\n",
        "        for file in files:\n",
        "            file_path = os.path.join(root, file)\n",
        "            total_size += os.path.getsize(file_path)\n",
        "\n",
        "    return file_count, folder_count, total_size\n",
        "\n",
        "# Take input from the user\n",
        "directory_path = input(\"Enter the absolute path of the directory: \")\n",
        "\n",
        "# Check if the directory exists\n",
        "if os.path.exists(directory_path) and os.path.isdir(directory_path):\n",
        "    # Get the directory information\n",
        "    file_count, folder_count, total_size = get_directory_info(directory_path)\n",
        "\n",
        "    # Display the results\n",
        "    print(\"\\nDirectory Information:\")\n",
        "    print(\"Number of Files:\", file_count)\n",
        "    print(\"Number of Folders:\", folder_count)\n",
        "    print(\"Total Size (in bytes):\", total_size)\n",
        "else:\n",
        "    print(\"Invalid directory path. Please provide a valid absolute path.\")\n"
      ]
    }
  ]
}