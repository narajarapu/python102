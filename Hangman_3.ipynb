{
  "cells": [
    {
      "cell_type": "markdown",
      "metadata": {
        "id": "view-in-github",
        "colab_type": "text"
      },
      "source": [
        "<a href=\"https://colab.research.google.com/github/narajarapu/python102/blob/main/Hangman_3.ipynb\" target=\"_parent\"><img src=\"https://colab.research.google.com/assets/colab-badge.svg\" alt=\"Open In Colab\"/></a>"
      ]
    },
    {
      "cell_type": "code",
      "execution_count": null,
      "metadata": {
        "colab": {
          "background_save": true,
          "base_uri": "https://localhost:8080/"
        },
        "id": "3-riYrosWVLw",
        "outputId": "c1c2119c-4bdd-40ea-ac79-684af51954e4"
      },
      "outputs": [
        {
          "name": "stdout",
          "output_type": "stream",
          "text": [
            "Welcome to Hangman!\n",
            "The secret word contains 12 letters.\n",
            "You have 6 guesses to start with.\n",
            "\n",
            "Available letters: abcdefghijklmnopqrstuvwxyz\n"
          ]
        }
      ],
      "source": [
        "def is_word_guessed(secret_word, letters_guessed):\n",
        "    for elem in secret_word:\n",
        "        if elem not in letters_guessed:\n",
        "            return False\n",
        "    return True\n",
        "\n",
        "def get_guessed_word(secret_word, letters_guessed):\n",
        "    my_word = \"\"\n",
        "    for letter in secret_word:\n",
        "        if letter in letters_guessed:\n",
        "            my_word += letter\n",
        "        else:\n",
        "            my_word += \"_\"\n",
        "    return my_word\n",
        "\n",
        "def get_available_letters(letters_guessed):\n",
        "    letters = \"abcdefghijklmnopqrstuvwxyz\"\n",
        "    unguessed = \"\"\n",
        "    for char in letters:\n",
        "        if char not in letters_guessed:\n",
        "            unguessed += char\n",
        "    return unguessed\n",
        "\n",
        "def hangman(secret_word):\n",
        "    available_letters = 'abcdefghijklmnopqrstuvwxyz'\n",
        "    guesses_left = 6\n",
        "    guessed_letters = []\n",
        "    secret_word = secret_word.lower()\n",
        "    secret_set = set(secret_word)\n",
        "    guessed_word = ['_' if letter.isalpha() else letter for letter in secret_word]\n",
        "\n",
        "    print(\"Welcome to Hangman!\")\n",
        "    print(f\"The secret word contains {len(secret_word)} letters.\")\n",
        "    print(f\"You have {guesses_left} guesses to start with.\")\n",
        "\n",
        "    while guesses_left > 0:\n",
        "        print(\"\\nAvailable letters:\", available_letters)\n",
        "        guess = input(\"Please guess a letter: \").lower()\n",
        "\n",
        "        if len(guess) != 1 or guess not in available_letters:\n",
        "            print(\"Invalid input. Please enter a single letter.\")\n",
        "            continue\n",
        "\n",
        "        if guess in guessed_letters:\n",
        "            print(\"You've already guessed that letter.\")\n",
        "            continue\n",
        "\n",
        "        guessed_letters.append(guess)\n",
        "        available_letters = available_letters.replace(guess, '')\n",
        "\n",
        "        if guess in secret_set:\n",
        "            print(\"Good guess!\")\n",
        "            for i, letter in enumerate(secret_word):\n",
        "                if letter == guess:\n",
        "                    guessed_word[i] = guess\n",
        "        else:\n",
        "            print(\"Oops! That letter is not in the word.\")\n",
        "            guesses_left -= 1\n",
        "\n",
        "        print(\"Guessed word:\", ' '.join(guessed_word))\n",
        "\n",
        "        if '_' not in guessed_word:\n",
        "            print(\"Congratulations, you've won!\")\n",
        "            break\n",
        "\n",
        "    if '_' in guessed_word:\n",
        "        print(f\"Sorry, you've run out of guesses. The word was '{secret_word}'.\")\n",
        "\n",
        "# Call hangman with a sample secret word\n",
        "hangman(\"example_word\")\n"
      ]
    }
  ],
  "metadata": {
    "colab": {
      "provenance": [],
      "authorship_tag": "ABX9TyP5Wq3IguXwwB9dLJJe1oJ6",
      "include_colab_link": true
    },
    "kernelspec": {
      "display_name": "Python 3",
      "name": "python3"
    },
    "language_info": {
      "name": "python"
    }
  },
  "nbformat": 4,
  "nbformat_minor": 0
}