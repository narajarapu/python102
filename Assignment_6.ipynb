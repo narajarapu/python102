{
  "nbformat": 4,
  "nbformat_minor": 0,
  "metadata": {
    "colab": {
      "provenance": [],
      "authorship_tag": "ABX9TyPEBoowRIqycP5+U9KyIjCI",
      "include_colab_link": true
    },
    "kernelspec": {
      "name": "python3",
      "display_name": "Python 3"
    },
    "language_info": {
      "name": "python"
    }
  },
  "cells": [
    {
      "cell_type": "markdown",
      "metadata": {
        "id": "view-in-github",
        "colab_type": "text"
      },
      "source": [
        "<a href=\"https://colab.research.google.com/github/narajarapu/python102/blob/main/Assignment_6.ipynb\" target=\"_parent\"><img src=\"https://colab.research.google.com/assets/colab-badge.svg\" alt=\"Open In Colab\"/></a>"
      ]
    },
    {
      "cell_type": "code",
      "execution_count": null,
      "metadata": {
        "id": "HRnc5lz0hk4n"
      },
      "outputs": [],
      "source": [
        "class MyClass:\n",
        "    def __init__(self, param1, param2):\n",
        "        self.param1 = param1\n",
        "        self.param2 = param2\n",
        "\n",
        "    def get_obj_create_code(self):\n",
        "        # Assuming default values for parameters\n",
        "        param1_default = \"default_value1\"\n",
        "        param2_default = \"default_value2\"\n",
        "\n",
        "        code = f\"{self.__class__.__name__}({param1_default!r}, {param2_default!r})\"\n",
        "        return code\n",
        "\n",
        "# Example usage:\n",
        "my_instance = MyClass(\"value1\", \"value2\")\n",
        "create_code = my_instance.get_obj_create_code()\n",
        "\n",
        "print(f\"Object creation code: {create_code}\")\n"
      ]
    }
  ]
}