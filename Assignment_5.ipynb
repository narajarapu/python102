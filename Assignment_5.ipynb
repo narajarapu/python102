{
  "nbformat": 4,
  "nbformat_minor": 0,
  "metadata": {
    "colab": {
      "provenance": [],
      "authorship_tag": "ABX9TyOQ4kLNIUtG4G8ijanKF8hS",
      "include_colab_link": true
    },
    "kernelspec": {
      "name": "python3",
      "display_name": "Python 3"
    },
    "language_info": {
      "name": "python"
    }
  },
  "cells": [
    {
      "cell_type": "markdown",
      "metadata": {
        "id": "view-in-github",
        "colab_type": "text"
      },
      "source": [
        "<a href=\"https://colab.research.google.com/github/narajarapu/python102/blob/main/Assignment_5.ipynb\" target=\"_parent\"><img src=\"https://colab.research.google.com/assets/colab-badge.svg\" alt=\"Open In Colab\"/></a>"
      ]
    },
    {
      "cell_type": "code",
      "execution_count": 1,
      "metadata": {
        "colab": {
          "base_uri": "https://localhost:8080/"
        },
        "id": "X48sSIhQg_AK",
        "outputId": "bf379020-ad4c-4c56-d8c3-a2114a659b97"
      },
      "outputs": [
        {
          "output_type": "stream",
          "name": "stdout",
          "text": [
            "Course: CS102, Instructor: Dr. Jasthi, Credits: 3\n",
            "Course: MATH202, Instructor: Prof. Johnson, Credits: 4\n",
            "Course: PHYS301, Instructor: Dr. Davis, Credits: 3\n",
            "Course(course_code='CS102', instructor='Dr. Jasthi', credits=3)\n",
            "Course(course_code='MATH202', instructor='Prof. Johnson', credits=4)\n",
            "Course(course_code='PHYS301', instructor='Dr. Davis', credits=3)\n"
          ]
        }
      ],
      "source": [
        "class Course:\n",
        "    def __init__(self, course_code, instructor, credits):\n",
        "        self.course_code = course_code\n",
        "        self.instructor = instructor\n",
        "        self.credits = credits\n",
        "\n",
        "    def __str__(self):\n",
        "        return f\"Course: {self.course_code}, Instructor: {self.instructor}, Credits: {self.credits}\"\n",
        "\n",
        "    def __repr__(self):\n",
        "        return f\"Course(course_code='{self.course_code}', instructor='{self.instructor}', credits={self.credits})\"\n",
        "\n",
        "# Creating three instances of the Course class\n",
        "course1 = Course(\"CS102\", \"Dr. Jasthi\", 3)\n",
        "course2 = Course(\"MATH202\", \"Prof. Johnson\", 4)\n",
        "course3 = Course(\"PHYS301\", \"Dr. Davis\", 3)\n",
        "\n",
        "# Printing the objects\n",
        "print(course1)\n",
        "print(course2)\n",
        "print(course3)\n",
        "\n",
        "# Printing the representations of the objects\n",
        "print(repr(course1))\n",
        "print(repr(course2))\n",
        "print(repr(course3))\n"
      ]
    }
  ]
}