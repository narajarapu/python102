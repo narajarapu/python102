{
  "nbformat": 4,
  "nbformat_minor": 0,
  "metadata": {
    "colab": {
      "provenance": [],
      "authorship_tag": "ABX9TyMWJk7fMWkz1KLDhBQfIN+Y",
      "include_colab_link": true
    },
    "kernelspec": {
      "name": "python3",
      "display_name": "Python 3"
    },
    "language_info": {
      "name": "python"
    }
  },
  "cells": [
    {
      "cell_type": "markdown",
      "metadata": {
        "id": "view-in-github",
        "colab_type": "text"
      },
      "source": [
        "<a href=\"https://colab.research.google.com/github/narajarapu/python102/blob/main/Assignment_10.ipynb\" target=\"_parent\"><img src=\"https://colab.research.google.com/assets/colab-badge.svg\" alt=\"Open In Colab\"/></a>"
      ]
    },
    {
      "cell_type": "code",
      "execution_count": 1,
      "metadata": {
        "colab": {
          "base_uri": "https://localhost:8080/"
        },
        "id": "Zizo2YbEGAp9",
        "outputId": "bea29d33-009d-413e-c0a4-b8396f560308"
      },
      "outputs": [
        {
          "output_type": "stream",
          "name": "stdout",
          "text": [
            "Employee: John Doe, Employee Number: E123\n",
            "Employee(emp_name=John Doe, emp_no=E123)\n",
            "ProductionWorker: Jane Smith, Employee Number: E456, Shift Number: 2, Hourly Pay Rate: 15.0\n",
            "ProductionWorker(emp_name=Jane Smith, emp_no=E456, shift_no=2, hourly_pay_rate=15.0)\n",
            "ShiftSupervisor: Alice Johnson, Employee Number: E789, Annual Salary: 70000, Annual Bonus: 5000\n",
            "ShiftSupervisor(emp_name=Alice Johnson, emp_no=E789, annual_salary=70000, annual_bonus=5000)\n"
          ]
        }
      ],
      "source": [
        "#@title 1.Employee and ProductionWorker Classes\n",
        "\n",
        "#Employee\n",
        "class Employee:\n",
        "    def __init__(self, emp_name, emp_no):\n",
        "        self._emp_name = emp_name\n",
        "        self._emp_no = emp_no\n",
        "\n",
        "    def get_emp_name(self):\n",
        "        return self._emp_name\n",
        "\n",
        "    def set_emp_name(self, emp_name):\n",
        "        self._emp_name = emp_name\n",
        "\n",
        "    def get_emp_no(self):\n",
        "        return self._emp_no\n",
        "\n",
        "    def set_emp_no(self, emp_no):\n",
        "        self._emp_no = emp_no\n",
        "\n",
        "    def __repr__(self):\n",
        "        return f\"Employee(emp_name={self._emp_name}, emp_no={self._emp_no})\"\n",
        "\n",
        "    def __str__(self):\n",
        "        return f\"Employee: {self._emp_name}, Employee Number: {self._emp_no}\"\n",
        "\n",
        "#Production Worker\n",
        "class ProductionWorker(Employee):\n",
        "    def __init__(self, emp_name, emp_no, shift_no, hourly_pay_rate):\n",
        "        super().__init__(emp_name, emp_no)\n",
        "        self._shift_no = shift_no\n",
        "        self._hourly_pay_rate = hourly_pay_rate\n",
        "\n",
        "    def get_shift_no(self):\n",
        "        return self._shift_no\n",
        "\n",
        "    def set_shift_no(self, shift_no):\n",
        "        self._shift_no = shift_no\n",
        "\n",
        "    def get_hourly_pay_rate(self):\n",
        "        return self._hourly_pay_rate\n",
        "\n",
        "    def set_hourly_pay_rate(self, hourly_pay_rate):\n",
        "        self._hourly_pay_rate = hourly_pay_rate\n",
        "\n",
        "    def __repr__(self):\n",
        "        return (\n",
        "            f\"ProductionWorker(emp_name={self._emp_name}, emp_no={self._emp_no}, \"\n",
        "            f\"shift_no={self._shift_no}, hourly_pay_rate={self._hourly_pay_rate})\"\n",
        "        )\n",
        "\n",
        "    def __str__(self):\n",
        "        return (\n",
        "            f\"ProductionWorker: {self._emp_name}, Employee Number: {self._emp_no}, \"\n",
        "            f\"Shift Number: {self._shift_no}, Hourly Pay Rate: {self._hourly_pay_rate}\"\n",
        "        )\n",
        "\n",
        "employee_instance = Employee(\"John Doe\", \"E123\")\n",
        "print(employee_instance)\n",
        "print(repr(employee_instance))\n",
        "\n",
        "production_worker_instance = ProductionWorker(\"Jane Smith\", \"E456\", 2, 15.0)\n",
        "print(production_worker_instance)\n",
        "print(repr(production_worker_instance))\n",
        "\n",
        "#ShiftSupervisor\n",
        "class ShiftSupervisor(Employee):\n",
        "    def __init__(self, emp_name, emp_no, annual_salary, annual_bonus):\n",
        "        super().__init__(emp_name, emp_no)\n",
        "        self._annual_salary = annual_salary\n",
        "        self._annual_bonus = annual_bonus\n",
        "\n",
        "    def get_annual_salary(self):\n",
        "        return self._annual_salary\n",
        "\n",
        "    def set_annual_salary(self, annual_salary):\n",
        "        self._annual_salary = annual_salary\n",
        "\n",
        "    def get_annual_bonus(self):\n",
        "        return self._annual_bonus\n",
        "\n",
        "    def set_annual_bonus(self, annual_bonus):\n",
        "        self._annual_bonus = annual_bonus\n",
        "\n",
        "    def __repr__(self):\n",
        "        return (\n",
        "            f\"ShiftSupervisor(emp_name={self._emp_name}, emp_no={self._emp_no}, \"\n",
        "            f\"annual_salary={self._annual_salary}, annual_bonus={self._annual_bonus})\"\n",
        "        )\n",
        "\n",
        "    def __str__(self):\n",
        "        return (\n",
        "            f\"ShiftSupervisor: {self._emp_name}, Employee Number: {self._emp_no}, \"\n",
        "            f\"Annual Salary: {self._annual_salary}, Annual Bonus: {self._annual_bonus}\"\n",
        "        )\n",
        "\n",
        "shift_supervisor_instance = ShiftSupervisor(\"Alice Johnson\", \"E789\", 70000, 5000)\n",
        "print(shift_supervisor_instance)\n",
        "print(repr(shift_supervisor_instance))\n",
        "\n"
      ]
    }
  ]
}