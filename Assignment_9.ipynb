{
  "nbformat": 4,
  "nbformat_minor": 0,
  "metadata": {
    "colab": {
      "provenance": [],
      "authorship_tag": "ABX9TyOmsJguN2b5EuNRyY1oJ7Hk",
      "include_colab_link": true
    },
    "kernelspec": {
      "name": "python3",
      "display_name": "Python 3"
    },
    "language_info": {
      "name": "python"
    }
  },
  "cells": [
    {
      "cell_type": "markdown",
      "metadata": {
        "id": "view-in-github",
        "colab_type": "text"
      },
      "source": [
        "<a href=\"https://colab.research.google.com/github/narajarapu/python102/blob/main/Assignment_9.ipynb\" target=\"_parent\"><img src=\"https://colab.research.google.com/assets/colab-badge.svg\" alt=\"Open In Colab\"/></a>"
      ]
    },
    {
      "cell_type": "code",
      "execution_count": null,
      "metadata": {
        "id": "9fAvuRMZH5ET"
      },
      "outputs": [],
      "source": [
        "class Pet:\n",
        "    def __init__(self, name, animal_type, age):\n",
        "        self.name = name\n",
        "        self.animal_type = animal_type\n",
        "        self.age = age\n",
        "\n",
        "\n",
        "def main():\n",
        "    name = input(\"Enter the name of your pet: \")\n",
        "    animal_type = input(\"Enter the type of your pet (e.g., Dog, Cat, Bird): \")\n",
        "    age = input(\"Enter the age of your pet: \")\n",
        "\n",
        "    # Creating an object of the Pet class\n",
        "    my_pet = Pet(name, animal_type, age)\n",
        "\n",
        "    # Accessing and displaying the data directly\n",
        "    print(\"\\nMy pet details:\")\n",
        "    print(\"Name:\", my_pet.name)\n",
        "    print(\"Animal Type:\", my_pet.animal_type)\n",
        "    print(\"Age:\", my_pet.age)\n",
        "\n",
        "\n",
        "# Calling the main function\n",
        "if __name__ == '__main__':\n",
        "    main()\n"
      ]
    }
  ]
}