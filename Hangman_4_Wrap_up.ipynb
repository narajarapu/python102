{
  "nbformat": 4,
  "nbformat_minor": 0,
  "metadata": {
    "colab": {
      "provenance": [],
      "authorship_tag": "ABX9TyMkSktVxscLoHV2Ik0DzFog",
      "include_colab_link": true
    },
    "kernelspec": {
      "name": "python3",
      "display_name": "Python 3"
    },
    "language_info": {
      "name": "python"
    }
  },
  "cells": [
    {
      "cell_type": "markdown",
      "metadata": {
        "id": "view-in-github",
        "colab_type": "text"
      },
      "source": [
        "<a href=\"https://colab.research.google.com/github/narajarapu/python102/blob/main/Hangman_4_Wrap_up.ipynb\" target=\"_parent\"><img src=\"https://colab.research.google.com/assets/colab-badge.svg\" alt=\"Open In Colab\"/></a>"
      ]
    },
    {
      "cell_type": "code",
      "execution_count": null,
      "metadata": {
        "colab": {
          "base_uri": "https://localhost:8080/"
        },
        "id": "_MfUGw8VOLgR",
        "outputId": "832c1179-1b34-4559-d249-be10f32a589c"
      },
      "outputs": [
        {
          "output_type": "stream",
          "name": "stdout",
          "text": [
            "Welcome to Hangman!\n",
            "The secret word contains 12 letters.\n",
            "You have 6 guesses and 3 warnings to start with.\n",
            "\n",
            "Available letters: abcdefghijklmnopqrstuvwxyz\n",
            "Please guess a letter: v\n",
            "Oops! That letter is not in the word.\n",
            "Guessed word: _ _ _ _ _ _ _ _ _ _ _ _\n",
            "\n",
            "Available letters: abcdefghijklmnopqrstuwxyz\n",
            "Please guess a letter: b\n",
            "Oops! That letter is not in the word.\n",
            "Guessed word: _ _ _ _ _ _ _ _ _ _ _ _\n",
            "\n",
            "Available letters: acdefghijklmnopqrstuwxyz\n",
            "Please guess a letter: g\n",
            "Oops! That letter is not in the word.\n",
            "Guessed word: _ _ _ _ _ _ _ _ _ _ _ _\n",
            "\n",
            "Available letters: acdefhijklmnopqrstuwxyz\n",
            "Please guess a letter: a\n",
            "Good guess!\n",
            "Guessed word: _ _ a _ _ _ _ _ _ _ _ _\n",
            "\n",
            "Available letters: cdefhijklmnopqrstuwxyz\n",
            "Please guess a letter: n\n",
            "Oops! That letter is not in the word.\n",
            "Guessed word: _ _ a _ _ _ _ _ _ _ _ _\n",
            "\n",
            "Available letters: cdefhijklmopqrstuwxyz\n",
            "Please guess a letter: m\n",
            "Good guess!\n",
            "Guessed word: _ _ a m _ _ _ _ _ _ _ _\n",
            "\n",
            "Available letters: cdefhijklopqrstuwxyz\n"
          ]
        }
      ],
      "source": [
        "def is_word_guessed(secret_word, letters_guessed):\n",
        "    for elem in secret_word:\n",
        "        if elem not in letters_guessed:\n",
        "            return False\n",
        "    return True\n",
        "\n",
        "def get_guessed_word(secret_word, letters_guessed):\n",
        "    my_word = \"\"\n",
        "    for letter in secret_word:\n",
        "        if letter in letters_guessed:\n",
        "            my_word += letter\n",
        "        else:\n",
        "            my_word += \"_\"\n",
        "    return my_word\n",
        "\n",
        "def get_available_letters(letters_guessed):\n",
        "    letters = \"abcdefghijklmnopqrstuvwxyz\"\n",
        "    unguessed = \"\"\n",
        "    for char in letters:\n",
        "        if char not in letters_guessed:\n",
        "            unguessed += char\n",
        "    return unguessed\n",
        "\n",
        "def hangman(secret_word):\n",
        "    available_letters = 'abcdefghijklmnopqrstuvwxyz'\n",
        "    guesses_left = 6\n",
        "    guessed_letters = []\n",
        "    warnings_left = 3\n",
        "    secret_word = secret_word.lower()\n",
        "    secret_set = set(secret_word)\n",
        "    guessed_word = ['_' if letter.isalpha() else letter for letter in secret_word]\n",
        "\n",
        "    print(\"Welcome to Hangman!\")\n",
        "    print(f\"The secret word contains {len(secret_word)} letters.\")\n",
        "    print(f\"You have {guesses_left} guesses and {warnings_left} warnings to start with.\")\n",
        "\n",
        "    while guesses_left > 0:\n",
        "        print(\"\\nAvailable letters:\", available_letters)\n",
        "        guess = input(\"Please guess a letter: \").lower()\n",
        "\n",
        "        if len(guess) != 1 or guess not in available_letters:\n",
        "            if warnings_left > 0:\n",
        "                warnings_left -= 1\n",
        "                print(f\"Oops! That's an invalid input. You have {warnings_left} warning(s) left.\")\n",
        "            else:\n",
        "                print(\"Oops! That's an invalid input. You have no warnings left.\")\n",
        "                guesses_left -= 1\n",
        "            continue\n",
        "\n",
        "        if guess in guessed_letters:\n",
        "            if warnings_left > 0:\n",
        "                warnings_left -= 1\n",
        "                print(f\"You've already guessed that letter. You have {warnings_left} warning(s) left.\")\n",
        "            else:\n",
        "                print(\"You've already guessed that letter. You have no warnings left.\")\n",
        "                guesses_left -= 1\n",
        "            continue\n",
        "\n",
        "        guessed_letters.append(guess)\n",
        "        available_letters = available_letters.replace(guess, '')\n",
        "\n",
        "        if guess in secret_set:\n",
        "            print(\"Good guess!\")\n",
        "            for i, letter in enumerate(secret_word):\n",
        "                if letter == guess:\n",
        "                    guessed_word[i] = guess\n",
        "        else:\n",
        "            print(\"Oops! That letter is not in the word.\")\n",
        "            guesses_left -= 1\n",
        "\n",
        "        print(\"Guessed word:\", ' '.join(guessed_word))\n",
        "\n",
        "        if '_' not in guessed_word:\n",
        "            print(\"Congratulations, you've won!\")\n",
        "            break\n",
        "\n",
        "    if '_' in guessed_word:\n",
        "        print(f\"Sorry, you've run out of guesses. The word was '{secret_word}'.\")\n",
        "\n",
        "hangman(\"example_word\")\n",
        "\n"
      ]
    }
  ]
}