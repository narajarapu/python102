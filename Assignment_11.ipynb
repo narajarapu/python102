{
  "nbformat": 4,
  "nbformat_minor": 0,
  "metadata": {
    "colab": {
      "provenance": [],
      "authorship_tag": "ABX9TyOgN4L0zxp2Eu5cIR/hTpPv",
      "include_colab_link": true
    },
    "kernelspec": {
      "name": "python3",
      "display_name": "Python 3"
    },
    "language_info": {
      "name": "python"
    }
  },
  "cells": [
    {
      "cell_type": "markdown",
      "metadata": {
        "id": "view-in-github",
        "colab_type": "text"
      },
      "source": [
        "<a href=\"https://colab.research.google.com/github/narajarapu/python102/blob/main/Assignment_11.ipynb\" target=\"_parent\"><img src=\"https://colab.research.google.com/assets/colab-badge.svg\" alt=\"Open In Colab\"/></a>"
      ]
    },
    {
      "cell_type": "code",
      "execution_count": 2,
      "metadata": {
        "colab": {
          "base_uri": "https://localhost:8080/"
        },
        "id": "9Xur4oNVMPHD",
        "outputId": "b68967f2-9ebb-4903-ae99-4f47fa5400e7"
      },
      "outputs": [
        {
          "output_type": "stream",
          "name": "stdout",
          "text": [
            "Customer Name: Nakul A\n",
            "Customer Address: 123 Main St\n",
            "Customer Telephone Number: (123)-456-7890\n",
            "Customer Number: 123\n",
            "Wants to be on Mailing List: True\n"
          ]
        }
      ],
      "source": [
        "class Person:\n",
        "    def __init__(self, name, address, telephone_number):\n",
        "        self.name = name\n",
        "        self.address = address\n",
        "        self.telephone_number = telephone_number\n",
        "\n",
        "class Customer(Person):\n",
        "    def __init__(self, name, address, telephone_number, customer_number, mailing_list):\n",
        "        super().__init__(name, address, telephone_number)\n",
        "        self.customer_number = customer_number\n",
        "        self.mailing_list = mailing_list\n",
        "\n",
        "# Example usage\n",
        "if __name__ == \"__main__\":\n",
        "    # Creating an instance of the Customer class\n",
        "    customer1 = Customer(\"Nakul A\", \"123 Main St\", \"(123)-456-7890\", \"123\", True)\n",
        "\n",
        "    # Accessing attributes\n",
        "    print(\"Customer Name:\", customer1.name)\n",
        "    print(\"Customer Address:\", customer1.address)\n",
        "    print(\"Customer Telephone Number:\", customer1.telephone_number)\n",
        "    print(\"Customer Number:\", customer1.customer_number)\n",
        "    print(\"Wants to be on Mailing List:\", customer1.mailing_list)\n"
      ]
    }
  ]
}