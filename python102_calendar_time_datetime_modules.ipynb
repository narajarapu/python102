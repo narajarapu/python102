{
  "nbformat": 4,
  "nbformat_minor": 0,
  "metadata": {
    "colab": {
      "provenance": [],
      "toc_visible": true,
      "include_colab_link": true
    },
    "kernelspec": {
      "name": "python3",
      "display_name": "Python 3"
    },
    "language_info": {
      "name": "python"
    }
  },
  "cells": [
    {
      "cell_type": "markdown",
      "metadata": {
        "id": "view-in-github",
        "colab_type": "text"
      },
      "source": [
        "<a href=\"https://colab.research.google.com/github/narajarapu/python102/blob/main/python102_calendar_time_datetime_modules.ipynb\" target=\"_parent\"><img src=\"https://colab.research.google.com/assets/colab-badge.svg\" alt=\"Open In Colab\"/></a>"
      ]
    },
    {
      "cell_type": "code",
      "source": [
        "#@title Exploring time module\n",
        "\n",
        "from datetime import datetime\n",
        "\n",
        "def get_current_time():\n",
        "    # Get the current date and time\n",
        "    current_time = datetime.now()\n",
        "\n",
        "    # Format the time as a string\n",
        "    formatted_time = current_time.strftime(\"%H:%M:%S\")\n",
        "\n",
        "    return formatted_time\n",
        "\n",
        "# Call the function and print the current time\n",
        "print(\"Current time is:\", get_current_time())\n"
      ],
      "metadata": {
        "id": "Qneanw5eSDSq",
        "outputId": "3350d309-b312-4f88-90a7-a848572c95c9",
        "colab": {
          "base_uri": "https://localhost:8080/"
        }
      },
      "execution_count": 1,
      "outputs": [
        {
          "output_type": "stream",
          "name": "stdout",
          "text": [
            "Current time is: 02:45:45\n"
          ]
        }
      ]
    },
    {
      "cell_type": "markdown",
      "source": [
        "# os module"
      ],
      "metadata": {
        "id": "OphqAnoZSIa9"
      }
    },
    {
      "cell_type": "code",
      "source": [
        "#@title Exploring os module\n",
        "\n",
        "import os\n",
        "from datetime import datetime\n",
        "\n",
        "def get_current_time():\n",
        "    # Get the current date and time\n",
        "    current_time = datetime.now()\n",
        "\n",
        "    # Format the time as a string\n",
        "    formatted_time = current_time.strftime(\"%H:%M:%S\")\n",
        "\n",
        "    return formatted_time\n",
        "\n",
        "def get_os_info():\n",
        "    # Get information about the operating system\n",
        "    os_info = f\"OS: {os.name} - {os.system('uname -a')}\" if os.name == 'posix' else f\"OS: {os.name}\"\n",
        "\n",
        "    return os_info\n",
        "\n",
        "# Call the functions and print the results\n",
        "print(\"Current time is:\", get_current_time())\n",
        "print(get_os_info())"
      ],
      "metadata": {
        "id": "psPRXNkTSJxA",
        "outputId": "881c30bd-bee8-401f-981e-24266a09c4e9",
        "colab": {
          "base_uri": "https://localhost:8080/"
        }
      },
      "execution_count": 2,
      "outputs": [
        {
          "output_type": "stream",
          "name": "stdout",
          "text": [
            "Current time is: 02:46:20\n",
            "OS: posix - 0\n"
          ]
        }
      ]
    }
  ]
}